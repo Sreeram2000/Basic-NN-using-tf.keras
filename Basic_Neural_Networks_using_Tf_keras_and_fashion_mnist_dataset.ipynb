{
  "nbformat": 4,
  "nbformat_minor": 0,
  "metadata": {
    "colab": {
      "name": "Basic Neural Networks using Tf.keras and fashion_mnist dataset ",
      "provenance": [],
      "collapsed_sections": []
    },
    "kernelspec": {
      "name": "python3",
      "display_name": "Python 3"
    }
  },
  "cells": [
    {
      "cell_type": "code",
      "metadata": {
        "id": "MainnTADfSqT",
        "colab_type": "code",
        "colab": {}
      },
      "source": [
        "%tensorflow_version 2.x"
      ],
      "execution_count": 2,
      "outputs": []
    },
    {
      "cell_type": "markdown",
      "metadata": {
        "id": "3yR18mbjfzWU",
        "colab_type": "text"
      },
      "source": [
        "KERAS"
      ]
    },
    {
      "cell_type": "code",
      "metadata": {
        "id": "uP9jumwqfbL8",
        "colab_type": "code",
        "colab": {}
      },
      "source": [
        "import tensorflow as tf\n",
        "from tensorflow import keras\n",
        "\n",
        "import numpy as np\n",
        "import matplotlib.pyplot as plt\n"
      ],
      "execution_count": 3,
      "outputs": []
    },
    {
      "cell_type": "markdown",
      "metadata": {
        "id": "TMaLGJSGf3X8",
        "colab_type": "text"
      },
      "source": [
        "Fashion_mnist Dataset"
      ]
    },
    {
      "cell_type": "code",
      "metadata": {
        "id": "aYK_AqAlf1Qk",
        "colab_type": "code",
        "colab": {
          "base_uri": "https://localhost:8080/",
          "height": 151
        },
        "outputId": "47c427d8-27d0-47c2-c502-c9b6025dcc4a"
      },
      "source": [
        "fashion_mnist = keras.datasets.fashion_mnist\n",
        "\n",
        "(train_images,train_labels),(test_images,test_labels)=fashion_mnist.load_data()"
      ],
      "execution_count": 4,
      "outputs": [
        {
          "output_type": "stream",
          "text": [
            "Downloading data from https://storage.googleapis.com/tensorflow/tf-keras-datasets/train-labels-idx1-ubyte.gz\n",
            "32768/29515 [=================================] - 0s 0us/step\n",
            "Downloading data from https://storage.googleapis.com/tensorflow/tf-keras-datasets/train-images-idx3-ubyte.gz\n",
            "26427392/26421880 [==============================] - 0s 0us/step\n",
            "Downloading data from https://storage.googleapis.com/tensorflow/tf-keras-datasets/t10k-labels-idx1-ubyte.gz\n",
            "8192/5148 [===============================================] - 0s 0us/step\n",
            "Downloading data from https://storage.googleapis.com/tensorflow/tf-keras-datasets/t10k-images-idx3-ubyte.gz\n",
            "4423680/4422102 [==============================] - 0s 0us/step\n"
          ],
          "name": "stdout"
        }
      ]
    },
    {
      "cell_type": "code",
      "metadata": {
        "id": "shKMX5WlgU_X",
        "colab_type": "code",
        "colab": {
          "base_uri": "https://localhost:8080/",
          "height": 34
        },
        "outputId": "0c2ebf7a-1575-4d26-87d3-732cbb6b9894"
      },
      "source": [
        "train_images.shape"
      ],
      "execution_count": 5,
      "outputs": [
        {
          "output_type": "execute_result",
          "data": {
            "text/plain": [
              "(60000, 28, 28)"
            ]
          },
          "metadata": {
            "tags": []
          },
          "execution_count": 5
        }
      ]
    },
    {
      "cell_type": "code",
      "metadata": {
        "id": "XlTxkBsUgfVS",
        "colab_type": "code",
        "colab": {
          "base_uri": "https://localhost:8080/",
          "height": 34
        },
        "outputId": "bb3a8ff5-a786-4925-94c1-a2c06b01132f"
      },
      "source": [
        "train_images[0,23,23]"
      ],
      "execution_count": 6,
      "outputs": [
        {
          "output_type": "execute_result",
          "data": {
            "text/plain": [
              "194"
            ]
          },
          "metadata": {
            "tags": []
          },
          "execution_count": 6
        }
      ]
    },
    {
      "cell_type": "markdown",
      "metadata": {
        "id": "1nIsHfJHgnsi",
        "colab_type": "text"
      },
      "source": [
        "One Pixel"
      ]
    },
    {
      "cell_type": "markdown",
      "metadata": {
        "id": "SUlwHN_ggvDq",
        "colab_type": "text"
      },
      "source": [
        "Our pixel Values are between 0 and 255,0 being black and 255 being white.  "
      ]
    },
    {
      "cell_type": "markdown",
      "metadata": {
        "id": "8W7mTVTqg52q",
        "colab_type": "text"
      },
      "source": [
        "This means that we have a grayscale image as there is no colour channel"
      ]
    },
    {
      "cell_type": "code",
      "metadata": {
        "id": "AnB_9qH7glOW",
        "colab_type": "code",
        "colab": {
          "base_uri": "https://localhost:8080/",
          "height": 34
        },
        "outputId": "8805bfa0-67d8-48de-a509-50d3d772ec19"
      },
      "source": [
        "train_labels[:10]"
      ],
      "execution_count": 7,
      "outputs": [
        {
          "output_type": "execute_result",
          "data": {
            "text/plain": [
              "array([9, 0, 0, 3, 0, 2, 7, 2, 5, 5], dtype=uint8)"
            ]
          },
          "metadata": {
            "tags": []
          },
          "execution_count": 7
        }
      ]
    },
    {
      "cell_type": "code",
      "metadata": {
        "id": "bSzh85QJhOQP",
        "colab_type": "code",
        "colab": {}
      },
      "source": [
        "class_names = [\"T-shirt/Top\",\"Trouser\",\"pull-over\",\"Dress\",\"Coat\",\"Sandal\",\"Shirt\",\"Sneaker\",\"Bag\",\"Ankle-Boot\"]"
      ],
      "execution_count": 10,
      "outputs": []
    },
    {
      "cell_type": "markdown",
      "metadata": {
        "id": "xVff2u3MhrfY",
        "colab_type": "text"
      },
      "source": [
        "To display: "
      ]
    },
    {
      "cell_type": "code",
      "metadata": {
        "id": "p56Idhd0hj4z",
        "colab_type": "code",
        "colab": {
          "base_uri": "https://localhost:8080/",
          "height": 265
        },
        "outputId": "0bd41367-58f2-4329-8c6c-eebfcfdf9df8"
      },
      "source": [
        "plt.figure()\n",
        "plt.imshow(train_images[1])\n",
        "plt.colorbar()\n",
        "plt.grid(False)\n",
        "plt.show()"
      ],
      "execution_count": 11,
      "outputs": [
        {
          "output_type": "display_data",
          "data": {
            "image/png": "[encoded data removed]",
            "text/plain": [
              "<Figure size 432x288 with 2 Axes>"
            ]
          },
          "metadata": {
            "tags": [],
            "needs_background": "light"
          }
        }
      ]
    },
    {
      "cell_type": "markdown",
      "metadata": {
        "id": "XrFBvslmiGrP",
        "colab_type": "text"
      },
      "source": [
        "Data Processing "
      ]
    },
    {
      "cell_type": "markdown",
      "metadata": {
        "id": "4zlAPs6MiP0Q",
        "colab_type": "text"
      },
      "source": [
        "This refers to applying some prior transformations to our data before feeding it to the model"
      ]
    },
    {
      "cell_type": "markdown",
      "metadata": {
        "id": "oyAyt2l_iZne",
        "colab_type": "text"
      },
      "source": [
        "In this case we will simply scale all all our grayscale pixel values (0-255) to between 0 and 1.We ca do this by dividing each value in the training and test data set by 255. Smaller values make processing easier. "
      ]
    },
    {
      "cell_type": "code",
      "metadata": {
        "id": "SC1__DGkh_a3",
        "colab_type": "code",
        "colab": {}
      },
      "source": [
        "train_images = train_images / 255.0\n",
        "test_images = test_images / 255.0"
      ],
      "execution_count": 12,
      "outputs": []
    },
    {
      "cell_type": "markdown",
      "metadata": {
        "id": "A7zcTrHPjS9p",
        "colab_type": "text"
      },
      "source": [
        "Building the model"
      ]
    },
    {
      "cell_type": "code",
      "metadata": {
        "id": "gnnngybhjQmc",
        "colab_type": "code",
        "colab": {}
      },
      "source": [
        "model = keras.Sequential([\n",
        "                          keras.layers.Flatten(input_shape=(28,28)),\n",
        "                          keras.layers.Dense(128,activation=\"relu\"),\n",
        "                          keras.layers.Dense(10,activation=\"softmax\")])"
      ],
      "execution_count": 15,
      "outputs": []
    },
    {
      "cell_type": "markdown",
      "metadata": {
        "id": "iI9OqN1Tlhin",
        "colab_type": "text"
      },
      "source": [
        "The sequential is the simplest neural network model.Flatten allows us to take the 28x28 matrix like structure and flatten it out.Flatten converts the shape 28x28 array into a vector of 784 neurons."
      ]
    },
    {
      "cell_type": "markdown",
      "metadata": {
        "id": "4bkxUcQel4sk",
        "colab_type": "text"
      },
      "source": [
        "Dense means each layer neuron in this layer is connected to all neurons in the previous layer .128 and 10 are output neurons , 10 representing the number of classes.  "
      ]
    },
    {
      "cell_type": "markdown",
      "metadata": {
        "id": "6Ir3EhvpmTAd",
        "colab_type": "text"
      },
      "source": [
        "Softmax is used for probability distribution."
      ]
    },
    {
      "cell_type": "markdown",
      "metadata": {
        "id": "FJjAjHnMm4NE",
        "colab_type": "text"
      },
      "source": [
        "Compiling the Model:"
      ]
    },
    {
      "cell_type": "code",
      "metadata": {
        "id": "5tRBJKF9j7oS",
        "colab_type": "code",
        "colab": {}
      },
      "source": [
        "model.compile(optimizer=\"adam\",loss=\"sparse_categorical_crossentropy\",metrics=[\"accuracy\"])"
      ],
      "execution_count": 16,
      "outputs": []
    },
    {
      "cell_type": "markdown",
      "metadata": {
        "id": "OuUyX9VznLkF",
        "colab_type": "text"
      },
      "source": [
        "Training the model:"
      ]
    },
    {
      "cell_type": "code",
      "metadata": {
        "id": "lDfr9GqjnJ4G",
        "colab_type": "code",
        "colab": {
          "base_uri": "https://localhost:8080/",
          "height": 134
        },
        "outputId": "01bdb1a4-f533-4924-b2e6-700d32f36fe1"
      },
      "source": [
        "model.fit(train_images,train_labels,epochs=3)"
      ],
      "execution_count": 32,
      "outputs": [
        {
          "output_type": "stream",
          "text": [
            "Epoch 1/3\n",
            "1875/1875 [==============================] - 3s 2ms/step - loss: 0.1411 - accuracy: 0.9474\n",
            "Epoch 2/3\n",
            "1875/1875 [==============================] - 3s 2ms/step - loss: 0.1400 - accuracy: 0.9484\n",
            "Epoch 3/3\n",
            "1875/1875 [==============================] - 3s 2ms/step - loss: 0.1364 - accuracy: 0.9494\n"
          ],
          "name": "stdout"
        },
        {
          "output_type": "execute_result",
          "data": {
            "text/plain": [
              "<tensorflow.python.keras.callbacks.History at 0x7f4cffecd400>"
            ]
          },
          "metadata": {
            "tags": []
          },
          "execution_count": 32
        }
      ]
    },
    {
      "cell_type": "markdown",
      "metadata": {
        "id": "3CGxvmF5no0j",
        "colab_type": "text"
      },
      "source": [
        "Evaluation:"
      ]
    },
    {
      "cell_type": "code",
      "metadata": {
        "id": "RlBXiAftnj6d",
        "colab_type": "code",
        "colab": {
          "base_uri": "https://localhost:8080/",
          "height": 34
        },
        "outputId": "15d8c524-e0ab-4387-9174-5d0c0be75764"
      },
      "source": [
        "test_loss,test_acc=model.evaluate(test_images,test_labels,verbose=1)"
      ],
      "execution_count": 33,
      "outputs": [
        {
          "output_type": "stream",
          "text": [
            "313/313 [==============================] - 0s 1ms/step - loss: 0.4222 - accuracy: 0.8908\n"
          ],
          "name": "stdout"
        }
      ]
    },
    {
      "cell_type": "code",
      "metadata": {
        "id": "ButmuSS-n3BL",
        "colab_type": "code",
        "colab": {
          "base_uri": "https://localhost:8080/",
          "height": 34
        },
        "outputId": "2f09deeb-8848-4b18-e796-c4637e88ed61"
      },
      "source": [
        "print(\"Test Accuracy\",test_acc)"
      ],
      "execution_count": 34,
      "outputs": [
        {
          "output_type": "stream",
          "text": [
            "Test Accuracy 0.8907999992370605\n"
          ],
          "name": "stdout"
        }
      ]
    },
    {
      "cell_type": "markdown",
      "metadata": {
        "id": "FtEhA5FmoRJ8",
        "colab_type": "text"
      },
      "source": [
        "If accuracy of traing model > testing model , it is called over-fitting. "
      ]
    },
    {
      "cell_type": "markdown",
      "metadata": {
        "id": "DyHBOA6ApEgR",
        "colab_type": "text"
      },
      "source": [
        "Prediction:"
      ]
    },
    {
      "cell_type": "code",
      "metadata": {
        "id": "yCY7yjain8as",
        "colab_type": "code",
        "colab": {}
      },
      "source": [
        "predictions=model.predict(test_images)"
      ],
      "execution_count": 35,
      "outputs": []
    },
    {
      "cell_type": "code",
      "metadata": {
        "id": "kuFcXQzwpL-V",
        "colab_type": "code",
        "colab": {
          "base_uri": "https://localhost:8080/",
          "height": 34
        },
        "outputId": "965c0861-9a09-4bc0-c410-ef55a097508a"
      },
      "source": [
        "print(class_names[np.argmax(predictions[11])])"
      ],
      "execution_count": 39,
      "outputs": [
        {
          "output_type": "stream",
          "text": [
            "Sandal\n"
          ],
          "name": "stdout"
        }
      ]
    },
    {
      "cell_type": "code",
      "metadata": {
        "id": "I6eTPof-pVPJ",
        "colab_type": "code",
        "colab": {
          "base_uri": "https://localhost:8080/",
          "height": 269
        },
        "outputId": "ea619ca1-5d72-4c58-d5d3-39399b7761bd"
      },
      "source": [
        "plt.figure()\n",
        "plt.imshow(test_images[11])\n",
        "plt.colorbar()\n",
        "plt.grid(False)\n",
        "plt.show()"
      ],
      "execution_count": 41,
      "outputs": [
        {
          "output_type": "display_data",
          "data": {
            "image/png": "[encoded data removed]",
            "text/plain": [
              "<Figure size 432x288 with 2 Axes>"
            ]
          },
          "metadata": {
            "tags": [],
            "needs_background": "light"
          }
        }
      ]
    },
    {
      "cell_type": "code",
      "metadata": {
        "id": "v5aFYFwCpgRk",
        "colab_type": "code",
        "colab": {}
      },
      "source": [
        ""
      ],
      "execution_count": null,
      "outputs": []
    }
  ]
}